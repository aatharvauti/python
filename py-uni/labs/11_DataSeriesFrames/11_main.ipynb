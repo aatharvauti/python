{
 "cells": [
  {
   "cell_type": "code",
   "execution_count": 1,
   "metadata": {},
   "outputs": [],
   "source": [
    "import pandas as pd"
   ]
  },
  {
   "cell_type": "code",
   "execution_count": 2,
   "metadata": {},
   "outputs": [
    {
     "name": "stdout",
     "output_type": "stream",
     "text": [
      "       #                 Name   Type 1  Type 2  HP  Attack  Defense  Sp. Atk  \\\n",
      "0      1            Bulbasaur    Grass  Poison  45      49       49       65   \n",
      "1      2              Ivysaur    Grass  Poison  60      62       63       80   \n",
      "2      3             Venusaur    Grass  Poison  80      82       83      100   \n",
      "3      3        Mega Venusaur    Grass  Poison  80     100      123      122   \n",
      "4      4           Charmander     Fire     NaN  39      52       43       60   \n",
      "..   ...                  ...      ...     ...  ..     ...      ...      ...   \n",
      "795  719              Diancie     Rock   Fairy  50     100      150      100   \n",
      "796  719  DiancieMega Diancie     Rock   Fairy  50     160      110      160   \n",
      "797  720  HoopaHoopa Confined  Psychic   Ghost  80     110       60      150   \n",
      "798  720   HoopaHoopa Unbound  Psychic    Dark  80     160       60      170   \n",
      "799  721            Volcanion     Fire   Water  80     110      120      130   \n",
      "\n",
      "     Sp. Def  Speed  Generation  Legendary  \n",
      "0         65     45           1      False  \n",
      "1         80     60           1      False  \n",
      "2        100     80           1      False  \n",
      "3        120     80           1      False  \n",
      "4         50     65           1      False  \n",
      "..       ...    ...         ...        ...  \n",
      "795      150     50           6       True  \n",
      "796      110    110           6       True  \n",
      "797      130     70           6       True  \n",
      "798      130     80           6       True  \n",
      "799       90     70           6       True  \n",
      "\n",
      "[800 rows x 12 columns]\n"
     ]
    }
   ],
   "source": [
    "data = pd.read_csv(\"pokemon_data.csv\")\n",
    "print(data)"
   ]
  },
  {
   "cell_type": "code",
   "execution_count": 3,
   "metadata": {},
   "outputs": [
    {
     "name": "stdout",
     "output_type": "stream",
     "text": [
      "Top 5 elements:    #           Name Type 1  Type 2  HP  Attack  Defense  Sp. Atk  Sp. Def  \\\n",
      "0  1      Bulbasaur  Grass  Poison  45      49       49       65       65   \n",
      "1  2        Ivysaur  Grass  Poison  60      62       63       80       80   \n",
      "2  3       Venusaur  Grass  Poison  80      82       83      100      100   \n",
      "3  3  Mega Venusaur  Grass  Poison  80     100      123      122      120   \n",
      "4  4     Charmander   Fire     NaN  39      52       43       60       50   \n",
      "\n",
      "   Speed  Generation  Legendary  \n",
      "0     45           1      False  \n",
      "1     60           1      False  \n",
      "2     80           1      False  \n",
      "3     80           1      False  \n",
      "4     65           1      False  \n",
      "\n",
      "Columns: Index(['#', 'Name', 'Type 1', 'Type 2', 'HP', 'Attack', 'Defense', 'Sp. Atk',\n",
      "       'Sp. Def', 'Speed', 'Generation', 'Legendary'],\n",
      "      dtype='object')\n",
      "\n",
      "All the data types: #              int64\n",
      "Name          object\n",
      "Type 1        object\n",
      "Type 2        object\n",
      "HP             int64\n",
      "Attack         int64\n",
      "Defense        int64\n",
      "Sp. Atk        int64\n",
      "Sp. Def        int64\n",
      "Speed          int64\n",
      "Generation     int64\n",
      "Legendary       bool\n",
      "dtype: object\n",
      "\n",
      "Select a column: 0                Bulbasaur\n",
      "1                  Ivysaur\n",
      "2                 Venusaur\n",
      "3            Mega Venusaur\n",
      "4               Charmander\n",
      "              ...         \n",
      "795                Diancie\n",
      "796    DiancieMega Diancie\n",
      "797    HoopaHoopa Confined\n",
      "798     HoopaHoopa Unbound\n",
      "799              Volcanion\n",
      "Name: Name, Length: 800, dtype: object\n",
      "\n",
      "Select a column in other way: 0                Bulbasaur\n",
      "1                  Ivysaur\n",
      "2                 Venusaur\n",
      "3            Mega Venusaur\n",
      "4               Charmander\n",
      "              ...         \n",
      "795                Diancie\n",
      "796    DiancieMega Diancie\n",
      "797    HoopaHoopa Confined\n",
      "798     HoopaHoopa Unbound\n",
      "799              Volcanion\n",
      "Name: Name, Length: 800, dtype: object\n",
      "\n",
      "            Name  HP  Attack  Defense\n",
      "0      Bulbasaur  45      49       49\n",
      "1        Ivysaur  60      62       63\n",
      "2       Venusaur  80      82       83\n",
      "3  Mega Venusaur  80     100      123\n",
      "4     Charmander  39      52       43\n"
     ]
    }
   ],
   "source": [
    "print(f\"Top 5 elements: {data.head(5)}\\n\")\n",
    "print(f\"Columns: {data.columns}\\n\")\n",
    "print(f\"All the data types: {data.dtypes}\\n\")\n",
    "print(f\"Select a column: {data.iloc[:, 1]}\\n\")\n",
    "print(f\"Select a column in other way: {data['Name']}\\n\")\n",
    "print(data[[\"Name\", \"HP\", \"Attack\", \"Defense\"]].head(5))"
   ]
  },
  {
   "cell_type": "code",
   "execution_count": 4,
   "metadata": {},
   "outputs": [
    {
     "name": "stdout",
     "output_type": "stream",
     "text": [
      "Read a specific location: Bulbasaur\n",
      "\n",
      "Read using index number:    #           Name Type 1\n",
      "0  1      Bulbasaur  Grass\n",
      "1  2        Ivysaur  Grass\n",
      "2  3       Venusaur  Grass\n",
      "3  3  Mega Venusaur  Grass\n",
      "4  4     Charmander   Fire\n",
      "\n"
     ]
    }
   ],
   "source": [
    "print(f\"Read a specific location: {data.iloc[0,1]}\\n\")\n",
    "print(f\"Read using index number: {data.iloc[0:5,0:3]}\\n\")"
   ]
  },
  {
   "cell_type": "code",
   "execution_count": 5,
   "metadata": {},
   "outputs": [
    {
     "name": "stdout",
     "output_type": "stream",
     "text": [
      "Read each eow:\n",
      "   #           Name Type 1  Type 2  HP  Attack  Defense  Sp. Atk  Sp. Def  \\\n",
      "0  1      Bulbasaur  Grass  Poison  45      49       49       65       65   \n",
      "1  2        Ivysaur  Grass  Poison  60      62       63       80       80   \n",
      "2  3       Venusaur  Grass  Poison  80      82       83      100      100   \n",
      "3  3  Mega Venusaur  Grass  Poison  80     100      123      122      120   \n",
      "\n",
      "   Speed  Generation  Legendary  \n",
      "0     45           1      False  \n",
      "1     60           1      False  \n",
      "2     80           1      False  \n",
      "3     80           1      False  \n",
      "\n",
      "0 Bulbasaur\n",
      "1 Ivysaur\n",
      "2 Venusaur\n",
      "3 Mega Venusaur\n"
     ]
    }
   ],
   "source": [
    "df_tmp = data.iloc[0:4 , :]\n",
    "print(f\"Read each eow:\\n{df_tmp}\\n\")\n",
    "for index,dfp in df_tmp.iterrows():\n",
    "    print(index,dfp['Name'])"
   ]
  },
  {
   "cell_type": "code",
   "execution_count": 6,
   "metadata": {},
   "outputs": [
    {
     "name": "stdout",
     "output_type": "stream",
     "text": [
      "       #                     Name Type 1    Type 2  HP  Attack  Defense  \\\n",
      "520  469                  Yanmega    Bug    Flying  86      76       86   \n",
      "698  637                Volcarona    Bug      Fire  85      60       65   \n",
      "231  214                Heracross    Bug  Fighting  80     125       75   \n",
      "232  214  HeracrossMega Heracross    Bug  Fighting  80     185      115   \n",
      "678  617                 Accelgor    Bug       NaN  80      70       40   \n",
      "..   ...                      ...    ...       ...  ..     ...      ...   \n",
      "106   98                   Krabby  Water       NaN  30     105       90   \n",
      "125  116                   Horsea  Water       NaN  30      40       70   \n",
      "129  120                   Staryu  Water       NaN  30      45       55   \n",
      "139  129                 Magikarp  Water       NaN  20      10       55   \n",
      "381  349                   Feebas  Water       NaN  20      15       20   \n",
      "\n",
      "     Sp. Atk  Sp. Def  Speed  Generation  Legendary  \n",
      "520      116       56     95           4      False  \n",
      "698      135      105    100           5      False  \n",
      "231       40       95     85           2      False  \n",
      "232       40      105     75           2      False  \n",
      "678      100       60    145           5      False  \n",
      "..       ...      ...    ...         ...        ...  \n",
      "106       25       25     50           1      False  \n",
      "125       70       25     60           1      False  \n",
      "129       70       55     85           1      False  \n",
      "139       15       20     80           1      False  \n",
      "381       10       55     80           3      False  \n",
      "\n",
      "[800 rows x 12 columns]\n"
     ]
    }
   ],
   "source": [
    "print(data.sort_values(['Type 1','HP'],ascending=[1,0]))"
   ]
  },
  {
   "cell_type": "code",
   "execution_count": 7,
   "metadata": {},
   "outputs": [
    {
     "name": "stdout",
     "output_type": "stream",
     "text": [
      "Add columns total:    #           Name Type 1  Type 2  HP  Attack  Defense  Sp. Atk  Sp. Def  \\\n",
      "0  1      Bulbasaur  Grass  Poison  45      49       49       65       65   \n",
      "1  2        Ivysaur  Grass  Poison  60      62       63       80       80   \n",
      "2  3       Venusaur  Grass  Poison  80      82       83      100      100   \n",
      "3  3  Mega Venusaur  Grass  Poison  80     100      123      122      120   \n",
      "4  4     Charmander   Fire     NaN  39      52       43       60       50   \n",
      "\n",
      "   Speed  Generation  Legendary  Total  \n",
      "0     45           1      False    318  \n",
      "1     60           1      False    405  \n",
      "2     80           1      False    525  \n",
      "3     80           1      False    625  \n",
      "4     65           1      False    309  \n",
      "\n"
     ]
    }
   ],
   "source": [
    "data[\"Total\"]=data.iloc[:,4:10].sum(axis=1)\n",
    "print(f\"Add columns total: {data.head(5)}\\n\")"
   ]
  },
  {
   "cell_type": "code",
   "execution_count": 8,
   "metadata": {},
   "outputs": [],
   "source": [
    "mod_data=data.sort_values('Total',ascending=False)"
   ]
  },
  {
   "cell_type": "code",
   "execution_count": 9,
   "metadata": {},
   "outputs": [],
   "source": [
    "data.to_csv(\"Modified_normal.csv\",index=False)\n",
    "mod_data.to_csv(\"Modified_decending.csv\",index=False)"
   ]
  },
  {
   "cell_type": "code",
   "execution_count": 10,
   "metadata": {},
   "outputs": [
    {
     "name": "stdout",
     "output_type": "stream",
     "text": [
      "       #           Name Type 1  Type 2   HP  Attack  Defense  Sp. Atk  \\\n",
      "2      3       Venusaur  Grass  Poison   80      82       83      100   \n",
      "3      3  Mega Venusaur  Grass  Poison   80     100      123      122   \n",
      "50    45      Vileplume  Grass  Poison   75      80       85      110   \n",
      "77    71     Victreebel  Grass  Poison   80     105       65      100   \n",
      "652  591      Amoonguss  Grass  Poison  114      85       70       85   \n",
      "\n",
      "     Sp. Def  Speed  Generation  Legendary  Total  \n",
      "2        100     80           1      False    525  \n",
      "3        120     80           1      False    625  \n",
      "50        90     50           1      False    490  \n",
      "77        70     70           1      False    490  \n",
      "652       80     30           5      False    464  \n"
     ]
    }
   ],
   "source": [
    "new_data = data[(data[\"Type 1\"]=='Grass') & (data[\"Type 2\"]==\"Poison\") & (data[\"HP\"]>70)]\n",
    "print(new_data)"
   ]
  },
  {
   "cell_type": "code",
   "execution_count": 11,
   "metadata": {},
   "outputs": [
    {
     "name": "stdout",
     "output_type": "stream",
     "text": [
      "   #                   Name Type 1  Type 2  HP  Attack  Defense  Sp. Atk  \\\n",
      "0  1              Bulbasaur  Grass  Poison  45      49       49       65   \n",
      "1  2                Ivysaur  Grass  Poison  60      62       63       80   \n",
      "2  3               Venusaur  Grass  Poison  80      82       83      100   \n",
      "3  3  VenusaurMega Venusaur  Grass  Poison  80     100      123      122   \n",
      "4  4             Charmander   Fire     NaN  39      52       43       60   \n",
      "\n",
      "   Sp. Def  Speed  Generation  Legendary  \n",
      "0       65     45           1      False  \n",
      "1       80     60           1      False  \n",
      "2      100     80           1      False  \n",
      "3      120     80           1      False  \n",
      "4       50     65           1      False  \n"
     ]
    }
   ],
   "source": [
    "data1 = pd.read_csv(\"pokemon_data.txt\", delimiter=\"\\t\")\n",
    "print(data1.head(5))"
   ]
  },
  {
   "cell_type": "markdown",
   "metadata": {},
   "source": []
  }
 ],
 "metadata": {
  "interpreter": {
   "hash": "e7370f93d1d0cde622a1f8e1c04877d8463912d04d973331ad4851f04de6915a"
  },
  "kernelspec": {
   "display_name": "Python 3 (ipykernel)",
   "language": "python",
   "name": "python3"
  },
  "language_info": {
   "codemirror_mode": {
    "name": "ipython",
    "version": 3
   },
   "file_extension": ".py",
   "mimetype": "text/x-python",
   "name": "python",
   "nbconvert_exporter": "python",
   "pygments_lexer": "ipython3",
   "version": "3.10.2"
  }
 },
 "nbformat": 4,
 "nbformat_minor": 2
}
