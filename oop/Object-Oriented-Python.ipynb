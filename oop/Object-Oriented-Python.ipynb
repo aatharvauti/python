{
 "cells": [
  {
   "cell_type": "markdown",
   "id": "a14089f4",
   "metadata": {},
   "source": [
    "# Python Object Oriented Programming\n",
    "\n",
    "---\n",
    "\n",
    "### Introduction\n",
    "\n",
    "#### Why the heck are we using OOP?\n",
    "\n",
    "- Python does not require you to use objects or classes\n",
    "- Complex programs are hard to keep organized\n",
    "- OOP organizes and structures code\n",
    "- It groups together data and behaviour into one place\n",
    "- It Promotes modularization of programs\n",
    "- Isolates different parts of program from each other\n",
    "\n",
    "#### OOP Terms\n",
    "\n",
    "| Terms       | Meaning                                                          |\n",
    "|-------------|------------------------------------------------------------------|\n",
    "| Class       | A blueprint (template) for creating objects of a particular type |\n",
    "| Methods     | A fancy way of referring to functions that are part of a class   |\n",
    "| Attributes  | Variables that hold data that are a part of a class              |\n",
    "| Object      | Specific instance of a class                                     |\n",
    "| Inheritance | Means by which a class can inherit capabilities from another     |\n",
    "| Composition | Means of building complex objects out of other objects           |\n",
    "\n"
   ]
  },
  {
   "cell_type": "markdown",
   "id": "9f87dc48",
   "metadata": {},
   "source": [
    "### Basic Class Definition\n",
    "\n",
    "---\n",
    "\n",
    "The keyword `class` is used to define a new class\n",
    "The keyword `self` represents the instance of the class. By using it, we can access the attributes and methods of the class\n",
    "\n",
    "If there exists an underscore `_` in front of the attribute name (in the following example, `_discount`), this is to give other developers a hint, that this attribute is considered **internal to the class and should not be accessed from outside the class**.\n",
    "\n",
    "Next we have the following block of code:\n",
    "    \n",
    "    if hasattr(self, \"_discount\"):\n",
    "        return self.price - (self.price * self._discount)\n",
    "\n",
    "This checks if there exists any attribute with the name `_discount`\n",
    "and if there is any value passed in `setdiscount`, we return the discounted amount"
   ]
  },
  {
   "cell_type": "code",
   "execution_count": 1,
   "id": "abe27d3d",
   "metadata": {},
   "outputs": [],
   "source": [
    "class Book:\n",
    "    def __init__(self, title, author, price):\n",
    "        self.title = title\n",
    "        self.author = author\n",
    "        self.price = price\n",
    "        \n",
    "    def getprice(self):\n",
    "        if hasattr(self, \"_discount\"):\n",
    "            return self.price - (self.price * self._discount)\n",
    "        else:\n",
    "            return self.price\n",
    "    \n",
    "    def setdiscount(self, amount):\n",
    "        self._discount = amount"
   ]
  },
  {
   "cell_type": "markdown",
   "id": "3904b8e1",
   "metadata": {},
   "source": [
    "Now in main program, we create 2 objects `b1` & `b2`\n",
    "We also pass 3 arguments to the `Book()`\n",
    "\n",
    "Note that we **do not pass `self`** as an argument, as it is handled by python.\n",
    "\n",
    "Now we can access the attributes using `.` operator\n",
    "\n",
    "Likewise, we can also use the functions that we defined in the `class Book`"
   ]
  },
  {
   "cell_type": "code",
   "execution_count": 2,
   "id": "6c152a4f",
   "metadata": {
    "scrolled": true
   },
   "outputs": [
    {
     "name": "stdout",
     "output_type": "stream",
     "text": [
      "\n",
      "Books Selected:\n",
      "\n",
      "The Art of War by Sun Tzu\n",
      "Rich Dad Poor Dad by Robert Kiyosaki\n"
     ]
    }
   ],
   "source": [
    "b1 = Book('The Art of War', 'Sun Tzu', 15.99)\n",
    "b2 = Book('Rich Dad Poor Dad', 'Robert Kiyosaki', 9.99)\n",
    "\n",
    "print('\\nBooks Selected:\\n')\n",
    "print(f'{b1.title} by {b1.author}')\n",
    "print(f'{b2.title} by {b2.author}')"
   ]
  },
  {
   "cell_type": "markdown",
   "id": "948c76d4",
   "metadata": {},
   "source": [
    "We use `.getprice()` and return the Subtotal\n",
    "\n",
    "In this case, since we have not used `setdiscount()`, \n",
    "it will just return `self.price` from class `Book`"
   ]
  },
  {
   "cell_type": "code",
   "execution_count": 3,
   "id": "6edfc325",
   "metadata": {},
   "outputs": [
    {
     "name": "stdout",
     "output_type": "stream",
     "text": [
      "\n",
      "Subtotal: USD 25.98\n"
     ]
    }
   ],
   "source": [
    "b1_price = b1.getprice()\n",
    "b2_price = b2.getprice()\n",
    "\n",
    "subtotal = b1_price + b2_price\n",
    "\n",
    "print(f'\\nSubtotal: USD {round(subtotal,2)}')"
   ]
  },
  {
   "cell_type": "markdown",
   "id": "fbb30869",
   "metadata": {},
   "source": [
    "Now, we do use `set_discount()` and hence, \n",
    "it returns `self.price - (self.price * self._discount)`"
   ]
  },
  {
   "cell_type": "code",
   "execution_count": 4,
   "id": "2d76207a",
   "metadata": {},
   "outputs": [
    {
     "name": "stdout",
     "output_type": "stream",
     "text": [
      "\n",
      "Subtotal: USD 20.78\n"
     ]
    }
   ],
   "source": [
    "b1.setdiscount(0.20)\n",
    "b2.setdiscount(0.20)\n",
    "\n",
    "b1_price = b1.getprice()\n",
    "b2_price = b2.getprice()\n",
    "\n",
    "subtotal = b1_price + b2_price\n",
    "\n",
    "print(f'\\nSubtotal: USD {round(subtotal,2)}')"
   ]
  },
  {
   "cell_type": "markdown",
   "id": "bfc595fe",
   "metadata": {},
   "source": [
    "#### Double Underscore\n",
    "\n",
    "Now that we have seen properties with a single underscore `_` should not be used outside the class, we also have properties starting with double underscore `__`\n",
    "\n",
    "This properties are simply hidden by the interpreter & if other classes try to access it, they'll get an error"
   ]
  },
  {
   "cell_type": "code",
   "execution_count": 5,
   "id": "2ca61244",
   "metadata": {
    "scrolled": true
   },
   "outputs": [
    {
     "ename": "AttributeError",
     "evalue": "'Password' object has no attribute '__secret'",
     "output_type": "error",
     "traceback": [
      "\u001b[0;31m---------------------------------------------------------------------------\u001b[0m",
      "\u001b[0;31mAttributeError\u001b[0m                            Traceback (most recent call last)",
      "\u001b[0;32m/tmp/ipykernel_12621/1219736969.py\u001b[0m in \u001b[0;36m<module>\u001b[0;34m\u001b[0m\n\u001b[1;32m      4\u001b[0m \u001b[0;34m\u001b[0m\u001b[0m\n\u001b[1;32m      5\u001b[0m \u001b[0mp\u001b[0m \u001b[0;34m=\u001b[0m \u001b[0mPassword\u001b[0m\u001b[0;34m(\u001b[0m\u001b[0;34m)\u001b[0m\u001b[0;34m\u001b[0m\u001b[0;34m\u001b[0m\u001b[0m\n\u001b[0;32m----> 6\u001b[0;31m \u001b[0mprint\u001b[0m\u001b[0;34m(\u001b[0m\u001b[0mp\u001b[0m\u001b[0;34m.\u001b[0m\u001b[0m__secret\u001b[0m\u001b[0;34m)\u001b[0m\u001b[0;34m\u001b[0m\u001b[0;34m\u001b[0m\u001b[0m\n\u001b[0m",
      "\u001b[0;31mAttributeError\u001b[0m: 'Password' object has no attribute '__secret'"
     ]
    }
   ],
   "source": [
    "class Password:\n",
    "    def __init__(self):\n",
    "        self.__secret = \"Secret String\"\n",
    "\n",
    "p = Password()\n",
    "print(p.__secret)"
   ]
  },
  {
   "cell_type": "markdown",
   "id": "a62ab48c",
   "metadata": {},
   "source": [
    "But the reason for this feature is to prevent subclasses from overwriting the attribute.\n",
    "\n",
    "However, other classes can subvert this by using the classname"
   ]
  },
  {
   "cell_type": "code",
   "execution_count": 6,
   "id": "ecde66cd",
   "metadata": {},
   "outputs": [
    {
     "name": "stdout",
     "output_type": "stream",
     "text": [
      "Secret String\n"
     ]
    }
   ],
   "source": [
    "print(p._Password__secret)"
   ]
  }
 ],
 "metadata": {
  "kernelspec": {
   "display_name": "Python 3.10.1",
   "language": "python",
   "name": "python3"
  },
  "language_info": {
   "codemirror_mode": {
    "name": "ipython",
    "version": 3
   },
   "file_extension": ".py",
   "mimetype": "text/x-python",
   "name": "python",
   "nbconvert_exporter": "python",
   "pygments_lexer": "ipython3",
   "version": "3.10.1"
  }
 },
 "nbformat": 4,
 "nbformat_minor": 5
}
