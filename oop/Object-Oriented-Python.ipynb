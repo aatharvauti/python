{
 "cells": [
  {
   "cell_type": "markdown",
   "id": "a14089f4",
   "metadata": {},
   "source": [
    "# Python Object Oriented Programming\n",
    "\n",
    "---\n",
    "\n",
    "### Introduction\n",
    "\n",
    "#### Why the heck are we using OOP?\n",
    "\n",
    "- Python does not require you to use objects or classes\n",
    "- Complex programs are hard to keep organized\n",
    "- OOP organizes and structures code\n",
    "- It groups together data and behaviour into one place\n",
    "- It Promotes modularization of programs\n",
    "- Isolates different parts of program from each other\n",
    "\n",
    "#### OOP Terms\n",
    "\n",
    "| Terms       | Meaning                                                          |\n",
    "|-------------|------------------------------------------------------------------|\n",
    "| Class       | A blueprint (template) for creating objects of a particular type |\n",
    "| Methods     | A fancy way of referring to functions that are part of a class   |\n",
    "| Attributes  | Variables that hold data that are a part of a class              |\n",
    "| Object      | Specific instance of a class                                     |\n",
    "| Inheritance | Means by which a class can inherit capabilities from another     |\n",
    "| Composition | Means of building complex objects out of other objects           |\n",
    "\n"
   ]
  },
  {
   "cell_type": "markdown",
   "id": "27cf1900",
   "metadata": {},
   "source": [
    "### Basic Class Definition\n",
    "\n",
    "---\n",
    "\n",
    "The keyword `class` is used to define a new class\n",
    "The keyword `self` represents the instance of the class. By using it, we can access the attributes and methods of the class\n",
    "\n",
    "If there exists an underscore `_` in front of the attribute name (in the following example, `_discount`), this is to give other developers a hint, that this attribute is considered **internal to the class and should not be accessed from outside the class**.\n",
    "\n",
    "Next we have the following block of code:\n",
    "    \n",
    "    if hasattr(self, \"_discount\"):\n",
    "        return self.price - (self.price * self._discount)\n",
    "\n",
    "This checks if there exists any attribute with the name `_discount`\n",
    "and if there is any value passed in `setdiscount`, we return the discounted amount"
   ]
  },
  {
   "cell_type": "code",
   "execution_count": 1,
   "id": "abe27d3d",
   "metadata": {},
   "outputs": [],
   "source": [
    "class Book:\n",
    "    def __init__(self, title, author, price):\n",
    "        self.title = title\n",
    "        self.author = author\n",
    "        self.price = price\n",
    "        \n",
    "    def getprice(self):\n",
    "        if hasattr(self, \"_discount\"):\n",
    "            return self.price - (self.price * self._discount)\n",
    "        else:\n",
    "            return self.price\n",
    "    \n",
    "    def setdiscount(self, amount):\n",
    "        self._discount = amount"
   ]
  },
  {
   "cell_type": "markdown",
   "id": "8bc5a9d8",
   "metadata": {},
   "source": [
    "Now in main program, we create 2 objects `b1` & `b2`\n",
    "We also pass 3 arguments to the `Book()`\n",
    "\n",
    "Note that we **do not pass `self`** as an argument, as it is handled by python.\n",
    "\n",
    "Now we can access the attributes using `.` operator\n",
    "\n",
    "Likewise, we can also use the functions that we defined in the `class Book`"
   ]
  },
  {
   "cell_type": "code",
   "execution_count": 2,
   "id": "6c152a4f",
   "metadata": {
    "scrolled": true
   },
   "outputs": [
    {
     "name": "stdout",
     "output_type": "stream",
     "text": [
      "\n",
      "Books Selected:\n",
      "\n",
      "The Art of War by Sun Tzu\n",
      "Rich Dad Poor Dad by Robert Kiyosaki\n"
     ]
    }
   ],
   "source": [
    "b1 = Book('The Art of War', 'Sun Tzu', 15.99)\n",
    "b2 = Book('Rich Dad Poor Dad', 'Robert Kiyosaki', 9.99)\n",
    "\n",
    "print('\\nBooks Selected:\\n')\n",
    "print(f'{b1.title} by {b1.author}')\n",
    "print(f'{b2.title} by {b2.author}')"
   ]
  },
  {
   "cell_type": "markdown",
   "id": "670b533e",
   "metadata": {},
   "source": [
    "We use `.getprice()` and return the Subtotal\n",
    "\n",
    "In this case, since we have not used `setdiscount()`, \n",
    "it will just return `self.price` from class `Book`"
   ]
  },
  {
   "cell_type": "code",
   "execution_count": 3,
   "id": "a12ed33a",
   "metadata": {},
   "outputs": [
    {
     "name": "stdout",
     "output_type": "stream",
     "text": [
      "\n",
      "Subtotal: USD 25.98\n"
     ]
    }
   ],
   "source": [
    "b1_price = b1.getprice()\n",
    "b2_price = b2.getprice()\n",
    "\n",
    "subtotal = b1_price + b2_price\n",
    "\n",
    "print(f'\\nSubtotal: USD {round(subtotal,2)}')"
   ]
  },
  {
   "cell_type": "markdown",
   "id": "b1adfd36",
   "metadata": {},
   "source": [
    "Now, we do use `set_discount()` and hence, \n",
    "it returns `self.price - (self.price * self._discount)`"
   ]
  },
  {
   "cell_type": "code",
   "execution_count": 4,
   "id": "cd316f3f",
   "metadata": {},
   "outputs": [
    {
     "name": "stdout",
     "output_type": "stream",
     "text": [
      "\n",
      "Subtotal: USD 20.78\n"
     ]
    }
   ],
   "source": [
    "b1.setdiscount(0.20)\n",
    "b2.setdiscount(0.20)\n",
    "\n",
    "b1_price = b1.getprice()\n",
    "b2_price = b2.getprice()\n",
    "\n",
    "subtotal = b1_price + b2_price\n",
    "\n",
    "print(f'\\nSubtotal: USD {round(subtotal,2)}')"
   ]
  },
  {
   "cell_type": "markdown",
   "id": "a9c53c5f",
   "metadata": {},
   "source": [
    "#### Double Underscore\n",
    "\n",
    "Now that we have seen properties with a single underscore `_` should not be used outside the class, we also have properties starting with double underscore `__`\n",
    "\n",
    "This properties are simply hidden by the interpreter & if other classes try to access it, they'll get an error"
   ]
  },
  {
   "cell_type": "code",
   "execution_count": 5,
   "id": "d90c4ec5",
   "metadata": {
    "scrolled": true
   },
   "outputs": [
    {
     "ename": "AttributeError",
     "evalue": "'Password' object has no attribute '__secret'",
     "output_type": "error",
     "traceback": [
      "\u001b[0;31m---------------------------------------------------------------------------\u001b[0m",
      "\u001b[0;31mAttributeError\u001b[0m                            Traceback (most recent call last)",
      "Input \u001b[0;32mIn [5]\u001b[0m, in \u001b[0;36m<module>\u001b[0;34m\u001b[0m\n\u001b[1;32m      3\u001b[0m         \u001b[38;5;28mself\u001b[39m\u001b[38;5;241m.\u001b[39m__secret \u001b[38;5;241m=\u001b[39m \u001b[38;5;124m\"\u001b[39m\u001b[38;5;124mSecret String\u001b[39m\u001b[38;5;124m\"\u001b[39m\n\u001b[1;32m      5\u001b[0m p \u001b[38;5;241m=\u001b[39m Password()\n\u001b[0;32m----> 6\u001b[0m \u001b[38;5;28mprint\u001b[39m(\u001b[43mp\u001b[49m\u001b[38;5;241;43m.\u001b[39;49m\u001b[43m__secret\u001b[49m)\n",
      "\u001b[0;31mAttributeError\u001b[0m: 'Password' object has no attribute '__secret'"
     ]
    }
   ],
   "source": [
    "class Password:\n",
    "    def __init__(self):\n",
    "        self.__secret = \"Secret String\"\n",
    "\n",
    "p = Password()\n",
    "print(p.__secret)"
   ]
  },
  {
   "cell_type": "markdown",
   "id": "e6b8282c",
   "metadata": {},
   "source": [
    "But the reason for this feature is to prevent subclasses from overwriting the attribute.\n",
    "\n",
    "However, other classes can subvert this by using the classname"
   ]
  },
  {
   "cell_type": "code",
   "execution_count": 6,
   "id": "1eb744cd",
   "metadata": {
    "scrolled": true
   },
   "outputs": [
    {
     "name": "stdout",
     "output_type": "stream",
     "text": [
      "Secret String\n"
     ]
    }
   ],
   "source": [
    "print(p._Password__secret)"
   ]
  },
  {
   "cell_type": "markdown",
   "id": "680aa83d",
   "metadata": {},
   "source": [
    "\n",
    "### Checking Class & Instance Types\n",
    "\n",
    "---\n",
    "\n",
    "To demonstrate this, we create 2 Classes"
   ]
  },
  {
   "cell_type": "code",
   "execution_count": 7,
   "id": "b1eaab3e",
   "metadata": {},
   "outputs": [],
   "source": [
    "class Magazine:\n",
    "    def __init__(self):\n",
    "        pass\n",
    "    \n",
    "class Comic:\n",
    "    def __init__(self):\n",
    "        pass"
   ]
  },
  {
   "cell_type": "markdown",
   "id": "2344e79f",
   "metadata": {},
   "source": [
    "Now, let's create some instances of the classes"
   ]
  },
  {
   "cell_type": "code",
   "execution_count": 8,
   "id": "d507b467",
   "metadata": {},
   "outputs": [],
   "source": [
    "m1 = Magazine()\n",
    "m2 = Magazine()\n",
    "\n",
    "c1 = Comic()\n",
    "c2 = Comic()"
   ]
  },
  {
   "cell_type": "markdown",
   "id": "430d916f",
   "metadata": {},
   "source": [
    "Using the `type()` function, we can inspect object type"
   ]
  },
  {
   "cell_type": "code",
   "execution_count": 9,
   "id": "cc2e4526",
   "metadata": {},
   "outputs": [
    {
     "name": "stdout",
     "output_type": "stream",
     "text": [
      "<class '__main__.Magazine'>\n",
      "<class '__main__.Comic'>\n"
     ]
    }
   ],
   "source": [
    "print(type(m1))\n",
    "print(type(c1))"
   ]
  },
  {
   "cell_type": "markdown",
   "id": "8c056fc1",
   "metadata": {},
   "source": [
    "Similarly, we can compare these types to check equality"
   ]
  },
  {
   "cell_type": "code",
   "execution_count": 10,
   "id": "a61168a2",
   "metadata": {},
   "outputs": [
    {
     "name": "stdout",
     "output_type": "stream",
     "text": [
      "True\n",
      "False\n"
     ]
    }
   ],
   "source": [
    "print(type(m1) == type(m2))\n",
    "print(type(c1) == type(m2))"
   ]
  },
  {
   "cell_type": "markdown",
   "id": "60f24f8d",
   "metadata": {},
   "source": [
    "The `isinstance()` compares a specific instance to a known type\n",
    "\n",
    "We can see from the following example that \n",
    "\n",
    "`m1` is an instance of the class `Magazine`\n",
    "whereas `c1` is NOT an instance of the class `Magazine`"
   ]
  },
  {
   "cell_type": "code",
   "execution_count": 11,
   "id": "35987c51",
   "metadata": {
    "scrolled": true
   },
   "outputs": [
    {
     "name": "stdout",
     "output_type": "stream",
     "text": [
      "True\n",
      "False\n"
     ]
    }
   ],
   "source": [
    "print(isinstance(m1, Magazine))\n",
    "print(isinstance(c1, Magazine))"
   ]
  },
  {
   "cell_type": "markdown",
   "id": "b9951a9c",
   "metadata": {},
   "source": [
    "We can also compare using `object`, if declared returns `True`"
   ]
  },
  {
   "cell_type": "code",
   "execution_count": 12,
   "id": "e8b2bded",
   "metadata": {},
   "outputs": [
    {
     "name": "stdout",
     "output_type": "stream",
     "text": [
      "True\n"
     ]
    }
   ],
   "source": [
    "print(isinstance(c1, object))"
   ]
  },
  {
   "cell_type": "markdown",
   "id": "026a0671",
   "metadata": {},
   "source": [
    "### Class Methods and Members \n",
    "\n",
    "---\n",
    "\n",
    "Properties defined at the class level are shared by all instances (and are generally UPPERCASE)\n",
    "\n",
    "\n",
    "#### Class method vs Static Method\n",
    "\n",
    "- A class method takes `cls` as the first parameter while a static method needs no specific parameters.\n",
    "- A class method can access or modify the class state while a static method can’t access or modify it.\n",
    "- In general, static methods know nothing about the class state. They are utility-type methods that take some parameters and work upon those parameters. On the other hand class methods must have class as a parameter.\n",
    "\n",
    "\n",
    "#### When to use what?\n",
    "\n",
    "- We generally use class method to create factory methods. Factory methods return class objects (similar to a constructor) for different use cases.\n",
    "- We generally use static methods to create utility functions."
   ]
  },
  {
   "cell_type": "code",
   "execution_count": 13,
   "id": "79e08bb5",
   "metadata": {},
   "outputs": [],
   "source": [
    "class Book:\n",
    "    \n",
    "    BOOK_TYPES = (\"HARDCOVER\", \"PAPERBACK\", \"EBOOK\")\n",
    "    \n",
    "    __booklist = None\n",
    "    \n",
    "    def __init__(self, title, booktype):\n",
    "        self.title = title\n",
    "        \n",
    "        # checks for valid booktypes first\n",
    "        if (not booktype in Book.BOOK_TYPES):\n",
    "            raise ValueError(f\"{booktype} is not a valid book type\")\n",
    "        else:\n",
    "            self.booktype = booktype\n",
    "            \n",
    "    # A class method to return the book type\n",
    "    \n",
    "    @classmethod\n",
    "    def getbooktypes(cls):\n",
    "        return cls.BOOK_TYPES\n",
    "    \n",
    "    # A static method to check if the list is empty (using as utility)\n",
    "    \n",
    "    @staticmethod\n",
    "    def getbooklist():\n",
    "        if Book.__booklist == None:\n",
    "            Book.__booklist = []\n",
    "        return Book.__booklist"
   ]
  },
  {
   "cell_type": "code",
   "execution_count": 14,
   "id": "cdb73c69",
   "metadata": {},
   "outputs": [],
   "source": [
    "b1 = Book(\"The Art of War\", \"HARDCOVER\")\n",
    "b2 = Book(\"Garfield\", \"PAPERBACK\")"
   ]
  },
  {
   "cell_type": "code",
   "execution_count": 15,
   "id": "6324bab9",
   "metadata": {},
   "outputs": [
    {
     "name": "stdout",
     "output_type": "stream",
     "text": [
      "Book types:  ('HARDCOVER', 'PAPERBACK', 'EBOOK')\n"
     ]
    }
   ],
   "source": [
    "print(\"Book types: \", Book.getbooktypes())"
   ]
  },
  {
   "cell_type": "code",
   "execution_count": 16,
   "id": "ff5f18ea",
   "metadata": {},
   "outputs": [
    {
     "name": "stdout",
     "output_type": "stream",
     "text": [
      "[<__main__.Book object at 0x7f7b8a3b6d40>, <__main__.Book object at 0x7f7b8a3b5c90>]\n"
     ]
    }
   ],
   "source": [
    "cart = Book.getbooklist()\n",
    "cart.append(b1)\n",
    "cart.append(b2)\n",
    "\n",
    "print(cart)"
   ]
  }
 ],
 "metadata": {
  "kernelspec": {
   "display_name": "Python 3 (ipykernel)",
   "language": "python",
   "name": "python3"
  },
  "language_info": {
   "codemirror_mode": {
    "name": "ipython",
    "version": 3
   },
   "file_extension": ".py",
   "mimetype": "text/x-python",
   "name": "python",
   "nbconvert_exporter": "python",
   "pygments_lexer": "ipython3",
   "version": "3.10.2"
  }
 },
 "nbformat": 4,
 "nbformat_minor": 5
}
