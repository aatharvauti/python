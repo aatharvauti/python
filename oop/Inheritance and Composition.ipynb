{
 "cells": [
  {
   "cell_type": "markdown",
   "id": "a9a03981",
   "metadata": {},
   "source": [
    "# Inheritance and Composition\n",
    "---\n",
    "\n",
    "### Understanding Inheritance\n",
    "\n",
    "Means by which a class can inherit capabilities from another.\n",
    "\n",
    "Let's take an example, we have 3 Classes which share some common properties:"
   ]
  },
  {
   "cell_type": "code",
   "execution_count": 1,
   "id": "bc5ce348",
   "metadata": {},
   "outputs": [],
   "source": [
    "class Book:\n",
    "    def __init__(self, title, author, pages, price):\n",
    "        self.title = title\n",
    "        self.price = price\n",
    "        self.author = author\n",
    "        self.pages = pages\n",
    "        \n",
    "\n",
    "class Magazine:\n",
    "    def __init__(self, title, publisher, period, price):\n",
    "        self.title = title\n",
    "        self.price = price\n",
    "        self.publisher = publisher\n",
    "        self.period = period\n",
    "\n",
    "\n",
    "class Newspaper:\n",
    "    def __init__(self, title, publisher, period, price):\n",
    "        self.title = title\n",
    "        self.price = price\n",
    "        self.publisher = publisher\n",
    "        self.period = period"
   ]
  },
  {
   "cell_type": "code",
   "execution_count": 2,
   "id": "8354476f",
   "metadata": {},
   "outputs": [
    {
     "name": "stdout",
     "output_type": "stream",
     "text": [
      "Sun Tzu\n",
      "Daily\n",
      "5.99\n"
     ]
    }
   ],
   "source": [
    "b1 = Book('The Art of War', 'Sun Tzu', 256, 15.99)\n",
    "n1 = Newspaper('The Times of India', 'The Times Group', 'Daily', 0.59)\n",
    "m1 = Magazine('Time', 'Dotdash Meredith', 'Twice Monthly', 5.99)\n",
    "\n",
    "print(b1.author)\n",
    "print(n1.period)\n",
    "print(m1.price)"
   ]
  },
  {
   "cell_type": "markdown",
   "id": "bb88b666",
   "metadata": {},
   "source": [
    "As we can see from the above example, we have 3 classes- `Book`, `Magazine`, and `Newspaper`.\n",
    "\n",
    "- All 3 of them share 2 common properties `title` and `price`\n",
    "- `Magazine` and `Newspaper` share all 4 properties in common\n",
    "\n",
    "So we use `super().__init__()` function to inherit those properties"
   ]
  },
  {
   "cell_type": "code",
   "execution_count": 3,
   "id": "c1e2fd74",
   "metadata": {},
   "outputs": [],
   "source": [
    "\n",
    "class Publication:\n",
    "    def __init__(self, title, price):\n",
    "        self.title = title\n",
    "        self.price = price\n",
    "\n",
    "        \n",
    "class Periodical(Publication):\n",
    "    def __init__(self, title, publisher, period, price):\n",
    "        super().__init__(title, price)  # inherits title and price from super class\n",
    "        self.publisher = publisher\n",
    "        self.period = period\n",
    "\n",
    "class Book(Publication):\n",
    "    def __init__(self, title, author, pages, price):\n",
    "        super().__init__(title, price)\n",
    "        self.author = author\n",
    "        self.pages = pages\n",
    "        \n",
    "\n",
    "class Magazine:\n",
    "    def __init__(self, title, publisher, period, price):\n",
    "        super().__init__(title, publisher, period, price)\n",
    "\n",
    "\n",
    "class Newspaper:\n",
    "    def __init__(self, title, publisher, period, price):\n",
    "        super().__init__(title, publisher, period, price)"
   ]
  },
  {
   "cell_type": "code",
   "execution_count": 4,
   "id": "dfc3c249",
   "metadata": {},
   "outputs": [
    {
     "name": "stdout",
     "output_type": "stream",
     "text": [
      "Sun Tzu\n",
      "Daily\n",
      "5.99\n"
     ]
    }
   ],
   "source": [
    "print(b1.author)\n",
    "print(n1.period)\n",
    "print(m1.price)"
   ]
  },
  {
   "cell_type": "markdown",
   "id": "86ee3f3b",
   "metadata": {},
   "source": [
    "Now we see that by using inheritance, we can inherit properties from the `super` class, which helps reduce our code and make it efficient."
   ]
  }
 ],
 "metadata": {
  "kernelspec": {
   "display_name": "Python 3 (ipykernel)",
   "language": "python",
   "name": "python3"
  },
  "language_info": {
   "codemirror_mode": {
    "name": "ipython",
    "version": 3
   },
   "file_extension": ".py",
   "mimetype": "text/x-python",
   "name": "python",
   "nbconvert_exporter": "python",
   "pygments_lexer": "ipython3",
   "version": "3.10.2"
  }
 },
 "nbformat": 4,
 "nbformat_minor": 5
}
